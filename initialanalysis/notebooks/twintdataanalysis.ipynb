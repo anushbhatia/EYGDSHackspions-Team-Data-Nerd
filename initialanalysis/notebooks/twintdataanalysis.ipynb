{
 "metadata": {
  "language_info": {
   "codemirror_mode": {
    "name": "ipython",
    "version": 3
   },
   "file_extension": ".py",
   "mimetype": "text/x-python",
   "name": "python",
   "nbconvert_exporter": "python",
   "pygments_lexer": "ipython3",
   "version": "3.8.5-final"
  },
  "orig_nbformat": 2,
  "kernelspec": {
   "name": "python3",
   "display_name": "Python 3"
  }
 },
 "nbformat": 4,
 "nbformat_minor": 2,
 "cells": [
  {
   "cell_type": "code",
   "execution_count": 1,
   "metadata": {},
   "outputs": [],
   "source": [
    "import pandas as pd"
   ]
  },
  {
   "cell_type": "code",
   "execution_count": 4,
   "metadata": {},
   "outputs": [],
   "source": [
    "df=pd.read_csv(r\"C:/Users/aviru/Documents/GITHUB REPOS/EYGDSHackspions-Team-Data-Nerd/scrapers/output.csv\")"
   ]
  },
  {
   "cell_type": "code",
   "execution_count": 5,
   "metadata": {},
   "outputs": [
    {
     "output_type": "execute_result",
     "data": {
      "text/plain": [
       "                     id      conversation_id  \\\n",
       "0   1331400986481586176  1331400986481586176   \n",
       "1   1331247567041081345  1331247567041081345   \n",
       "2   1331214247955738624  1331214247955738624   \n",
       "3   1330737141794676736  1330737141794676736   \n",
       "4   1330282078223687686  1330282078223687686   \n",
       "..                  ...                  ...   \n",
       "95  1320135665242284033  1320135665242284033   \n",
       "96  1320076502839459842  1320076502839459842   \n",
       "97  1320009231903432704  1320009231903432704   \n",
       "98  1320009047593156608  1320009047593156608   \n",
       "99  1319814928010625024  1319814928010625024   \n",
       "\n",
       "                                 created_at        date      time  timezone  \\\n",
       "0   2020-11-25 06:25:06 India Standard Time  2020-11-25  06:25:06       530   \n",
       "1   2020-11-24 20:15:28 India Standard Time  2020-11-24  20:15:28       530   \n",
       "2   2020-11-24 18:03:04 India Standard Time  2020-11-24  18:03:04       530   \n",
       "3   2020-11-23 10:27:13 India Standard Time  2020-11-23  10:27:13       530   \n",
       "4   2020-11-22 04:18:57 India Standard Time  2020-11-22  04:18:57       530   \n",
       "..                                      ...         ...       ...       ...   \n",
       "95  2020-10-25 04:20:44 India Standard Time  2020-10-25  04:20:44       530   \n",
       "96  2020-10-25 00:25:38 India Standard Time  2020-10-25  00:25:38       530   \n",
       "97  2020-10-24 19:58:20 India Standard Time  2020-10-24  19:58:20       530   \n",
       "98  2020-10-24 19:57:36 India Standard Time  2020-10-24  19:57:36       530   \n",
       "99  2020-10-24 07:06:14 India Standard Time  2020-10-24  07:06:14       530   \n",
       "\n",
       "     user_id         username             name  place  ... geo source  \\\n",
       "0   25073877  realdonaldtrump  Donald J. Trump    NaN  ... NaN    NaN   \n",
       "1   25073877  realdonaldtrump  Donald J. Trump    NaN  ... NaN    NaN   \n",
       "2   25073877  realdonaldtrump  Donald J. Trump    NaN  ... NaN    NaN   \n",
       "3   25073877  realdonaldtrump  Donald J. Trump    NaN  ... NaN    NaN   \n",
       "4   25073877  realdonaldtrump  Donald J. Trump    NaN  ... NaN    NaN   \n",
       "..       ...              ...              ...    ...  ...  ..    ...   \n",
       "95  25073877  realdonaldtrump  Donald J. Trump    NaN  ... NaN    NaN   \n",
       "96  25073877  realdonaldtrump  Donald J. Trump    NaN  ... NaN    NaN   \n",
       "97  25073877  realdonaldtrump  Donald J. Trump    NaN  ... NaN    NaN   \n",
       "98  25073877  realdonaldtrump  Donald J. Trump    NaN  ... NaN    NaN   \n",
       "99  25073877  realdonaldtrump  Donald J. Trump    NaN  ... NaN    NaN   \n",
       "\n",
       "   user_rt_id user_rt retweet_id  reply_to  retweet_date  translate trans_src  \\\n",
       "0         NaN     NaN        NaN        []           NaN        NaN       NaN   \n",
       "1         NaN     NaN        NaN        []           NaN        NaN       NaN   \n",
       "2         NaN     NaN        NaN        []           NaN        NaN       NaN   \n",
       "3         NaN     NaN        NaN        []           NaN        NaN       NaN   \n",
       "4         NaN     NaN        NaN        []           NaN        NaN       NaN   \n",
       "..        ...     ...        ...       ...           ...        ...       ...   \n",
       "95        NaN     NaN        NaN        []           NaN        NaN       NaN   \n",
       "96        NaN     NaN        NaN        []           NaN        NaN       NaN   \n",
       "97        NaN     NaN        NaN        []           NaN        NaN       NaN   \n",
       "98        NaN     NaN        NaN        []           NaN        NaN       NaN   \n",
       "99        NaN     NaN        NaN        []           NaN        NaN       NaN   \n",
       "\n",
       "   trans_dest  \n",
       "0         NaN  \n",
       "1         NaN  \n",
       "2         NaN  \n",
       "3         NaN  \n",
       "4         NaN  \n",
       "..        ...  \n",
       "95        NaN  \n",
       "96        NaN  \n",
       "97        NaN  \n",
       "98        NaN  \n",
       "99        NaN  \n",
       "\n",
       "[100 rows x 36 columns]"
      ],
      "text/html": "<div>\n<style scoped>\n    .dataframe tbody tr th:only-of-type {\n        vertical-align: middle;\n    }\n\n    .dataframe tbody tr th {\n        vertical-align: top;\n    }\n\n    .dataframe thead th {\n        text-align: right;\n    }\n</style>\n<table border=\"1\" class=\"dataframe\">\n  <thead>\n    <tr style=\"text-align: right;\">\n      <th></th>\n      <th>id</th>\n      <th>conversation_id</th>\n      <th>created_at</th>\n      <th>date</th>\n      <th>time</th>\n      <th>timezone</th>\n      <th>user_id</th>\n      <th>username</th>\n      <th>name</th>\n      <th>place</th>\n      <th>...</th>\n      <th>geo</th>\n      <th>source</th>\n      <th>user_rt_id</th>\n      <th>user_rt</th>\n      <th>retweet_id</th>\n      <th>reply_to</th>\n      <th>retweet_date</th>\n      <th>translate</th>\n      <th>trans_src</th>\n      <th>trans_dest</th>\n    </tr>\n  </thead>\n  <tbody>\n    <tr>\n      <th>0</th>\n      <td>1331400986481586176</td>\n      <td>1331400986481586176</td>\n      <td>2020-11-25 06:25:06 India Standard Time</td>\n      <td>2020-11-25</td>\n      <td>06:25:06</td>\n      <td>530</td>\n      <td>25073877</td>\n      <td>realdonaldtrump</td>\n      <td>Donald J. Trump</td>\n      <td>NaN</td>\n      <td>...</td>\n      <td>NaN</td>\n      <td>NaN</td>\n      <td>NaN</td>\n      <td>NaN</td>\n      <td>NaN</td>\n      <td>[]</td>\n      <td>NaN</td>\n      <td>NaN</td>\n      <td>NaN</td>\n      <td>NaN</td>\n    </tr>\n    <tr>\n      <th>1</th>\n      <td>1331247567041081345</td>\n      <td>1331247567041081345</td>\n      <td>2020-11-24 20:15:28 India Standard Time</td>\n      <td>2020-11-24</td>\n      <td>20:15:28</td>\n      <td>530</td>\n      <td>25073877</td>\n      <td>realdonaldtrump</td>\n      <td>Donald J. Trump</td>\n      <td>NaN</td>\n      <td>...</td>\n      <td>NaN</td>\n      <td>NaN</td>\n      <td>NaN</td>\n      <td>NaN</td>\n      <td>NaN</td>\n      <td>[]</td>\n      <td>NaN</td>\n      <td>NaN</td>\n      <td>NaN</td>\n      <td>NaN</td>\n    </tr>\n    <tr>\n      <th>2</th>\n      <td>1331214247955738624</td>\n      <td>1331214247955738624</td>\n      <td>2020-11-24 18:03:04 India Standard Time</td>\n      <td>2020-11-24</td>\n      <td>18:03:04</td>\n      <td>530</td>\n      <td>25073877</td>\n      <td>realdonaldtrump</td>\n      <td>Donald J. Trump</td>\n      <td>NaN</td>\n      <td>...</td>\n      <td>NaN</td>\n      <td>NaN</td>\n      <td>NaN</td>\n      <td>NaN</td>\n      <td>NaN</td>\n      <td>[]</td>\n      <td>NaN</td>\n      <td>NaN</td>\n      <td>NaN</td>\n      <td>NaN</td>\n    </tr>\n    <tr>\n      <th>3</th>\n      <td>1330737141794676736</td>\n      <td>1330737141794676736</td>\n      <td>2020-11-23 10:27:13 India Standard Time</td>\n      <td>2020-11-23</td>\n      <td>10:27:13</td>\n      <td>530</td>\n      <td>25073877</td>\n      <td>realdonaldtrump</td>\n      <td>Donald J. Trump</td>\n      <td>NaN</td>\n      <td>...</td>\n      <td>NaN</td>\n      <td>NaN</td>\n      <td>NaN</td>\n      <td>NaN</td>\n      <td>NaN</td>\n      <td>[]</td>\n      <td>NaN</td>\n      <td>NaN</td>\n      <td>NaN</td>\n      <td>NaN</td>\n    </tr>\n    <tr>\n      <th>4</th>\n      <td>1330282078223687686</td>\n      <td>1330282078223687686</td>\n      <td>2020-11-22 04:18:57 India Standard Time</td>\n      <td>2020-11-22</td>\n      <td>04:18:57</td>\n      <td>530</td>\n      <td>25073877</td>\n      <td>realdonaldtrump</td>\n      <td>Donald J. Trump</td>\n      <td>NaN</td>\n      <td>...</td>\n      <td>NaN</td>\n      <td>NaN</td>\n      <td>NaN</td>\n      <td>NaN</td>\n      <td>NaN</td>\n      <td>[]</td>\n      <td>NaN</td>\n      <td>NaN</td>\n      <td>NaN</td>\n      <td>NaN</td>\n    </tr>\n    <tr>\n      <th>...</th>\n      <td>...</td>\n      <td>...</td>\n      <td>...</td>\n      <td>...</td>\n      <td>...</td>\n      <td>...</td>\n      <td>...</td>\n      <td>...</td>\n      <td>...</td>\n      <td>...</td>\n      <td>...</td>\n      <td>...</td>\n      <td>...</td>\n      <td>...</td>\n      <td>...</td>\n      <td>...</td>\n      <td>...</td>\n      <td>...</td>\n      <td>...</td>\n      <td>...</td>\n      <td>...</td>\n    </tr>\n    <tr>\n      <th>95</th>\n      <td>1320135665242284033</td>\n      <td>1320135665242284033</td>\n      <td>2020-10-25 04:20:44 India Standard Time</td>\n      <td>2020-10-25</td>\n      <td>04:20:44</td>\n      <td>530</td>\n      <td>25073877</td>\n      <td>realdonaldtrump</td>\n      <td>Donald J. Trump</td>\n      <td>NaN</td>\n      <td>...</td>\n      <td>NaN</td>\n      <td>NaN</td>\n      <td>NaN</td>\n      <td>NaN</td>\n      <td>NaN</td>\n      <td>[]</td>\n      <td>NaN</td>\n      <td>NaN</td>\n      <td>NaN</td>\n      <td>NaN</td>\n    </tr>\n    <tr>\n      <th>96</th>\n      <td>1320076502839459842</td>\n      <td>1320076502839459842</td>\n      <td>2020-10-25 00:25:38 India Standard Time</td>\n      <td>2020-10-25</td>\n      <td>00:25:38</td>\n      <td>530</td>\n      <td>25073877</td>\n      <td>realdonaldtrump</td>\n      <td>Donald J. Trump</td>\n      <td>NaN</td>\n      <td>...</td>\n      <td>NaN</td>\n      <td>NaN</td>\n      <td>NaN</td>\n      <td>NaN</td>\n      <td>NaN</td>\n      <td>[]</td>\n      <td>NaN</td>\n      <td>NaN</td>\n      <td>NaN</td>\n      <td>NaN</td>\n    </tr>\n    <tr>\n      <th>97</th>\n      <td>1320009231903432704</td>\n      <td>1320009231903432704</td>\n      <td>2020-10-24 19:58:20 India Standard Time</td>\n      <td>2020-10-24</td>\n      <td>19:58:20</td>\n      <td>530</td>\n      <td>25073877</td>\n      <td>realdonaldtrump</td>\n      <td>Donald J. Trump</td>\n      <td>NaN</td>\n      <td>...</td>\n      <td>NaN</td>\n      <td>NaN</td>\n      <td>NaN</td>\n      <td>NaN</td>\n      <td>NaN</td>\n      <td>[]</td>\n      <td>NaN</td>\n      <td>NaN</td>\n      <td>NaN</td>\n      <td>NaN</td>\n    </tr>\n    <tr>\n      <th>98</th>\n      <td>1320009047593156608</td>\n      <td>1320009047593156608</td>\n      <td>2020-10-24 19:57:36 India Standard Time</td>\n      <td>2020-10-24</td>\n      <td>19:57:36</td>\n      <td>530</td>\n      <td>25073877</td>\n      <td>realdonaldtrump</td>\n      <td>Donald J. Trump</td>\n      <td>NaN</td>\n      <td>...</td>\n      <td>NaN</td>\n      <td>NaN</td>\n      <td>NaN</td>\n      <td>NaN</td>\n      <td>NaN</td>\n      <td>[]</td>\n      <td>NaN</td>\n      <td>NaN</td>\n      <td>NaN</td>\n      <td>NaN</td>\n    </tr>\n    <tr>\n      <th>99</th>\n      <td>1319814928010625024</td>\n      <td>1319814928010625024</td>\n      <td>2020-10-24 07:06:14 India Standard Time</td>\n      <td>2020-10-24</td>\n      <td>07:06:14</td>\n      <td>530</td>\n      <td>25073877</td>\n      <td>realdonaldtrump</td>\n      <td>Donald J. Trump</td>\n      <td>NaN</td>\n      <td>...</td>\n      <td>NaN</td>\n      <td>NaN</td>\n      <td>NaN</td>\n      <td>NaN</td>\n      <td>NaN</td>\n      <td>[]</td>\n      <td>NaN</td>\n      <td>NaN</td>\n      <td>NaN</td>\n      <td>NaN</td>\n    </tr>\n  </tbody>\n</table>\n<p>100 rows × 36 columns</p>\n</div>"
     },
     "metadata": {},
     "execution_count": 5
    }
   ],
   "source": [
    "df"
   ]
  },
  {
   "cell_type": "code",
   "execution_count": null,
   "metadata": {},
   "outputs": [],
   "source": []
  }
 ]
}